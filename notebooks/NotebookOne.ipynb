{
 "cells": [
  {
   "cell_type": "markdown",
   "id": "bc1a77fa-c283-4094-b783-0889c8b49d95",
   "metadata": {},
   "source": [
    "# Working With a SQL Database"
   ]
  },
  {
   "cell_type": "code",
   "execution_count": 145,
   "id": "3d5db279-d4e8-45e1-b326-5a3e2379825f",
   "metadata": {},
   "outputs": [],
   "source": [
    "# IMPORTS\n",
    "import pandas as pd\n",
    "import sqlalchemy as sal\n",
    "from config import user, password, host, port\n",
    "import datetime\n",
    "import matplotlib.pyplot as plt\n",
    "import numpy as np\n",
    "from scipy.stats import ttest_ind"
   ]
  },
  {
   "cell_type": "code",
   "execution_count": 2,
   "id": "4a731ace-c769-432b-b53f-e87b5bf5e304",
   "metadata": {},
   "outputs": [],
   "source": [
    "connection_string = f\"{user}:{password}@{host}:{port}/Liquor_Sales\"\n",
    "engine = sal.create_engine(f'postgresql://{connection_string}')\n",
    "conn = engine.connect()"
   ]
  },
  {
   "cell_type": "code",
   "execution_count": 3,
   "id": "cefd7343-b072-46fb-9acf-fa73fae99e35",
   "metadata": {},
   "outputs": [],
   "source": [
    "top_df = pd.read_sql('select * from main_table limit 5;', conn)"
   ]
  },
  {
   "cell_type": "code",
   "execution_count": 4,
   "id": "10c3f5a6-a8c1-4e57-b2e8-5b4e3de548ee",
   "metadata": {},
   "outputs": [
    {
     "data": {
      "text/html": [
       "<div>\n",
       "<style scoped>\n",
       "    .dataframe tbody tr th:only-of-type {\n",
       "        vertical-align: middle;\n",
       "    }\n",
       "\n",
       "    .dataframe tbody tr th {\n",
       "        vertical-align: top;\n",
       "    }\n",
       "\n",
       "    .dataframe thead th {\n",
       "        text-align: right;\n",
       "    }\n",
       "</style>\n",
       "<table border=\"1\" class=\"dataframe\">\n",
       "  <thead>\n",
       "    <tr style=\"text-align: right;\">\n",
       "      <th></th>\n",
       "      <th>invoice_number</th>\n",
       "      <th>date</th>\n",
       "      <th>store_number</th>\n",
       "      <th>store_name</th>\n",
       "      <th>address</th>\n",
       "      <th>city</th>\n",
       "      <th>zip_code</th>\n",
       "      <th>store_location</th>\n",
       "      <th>county_number</th>\n",
       "      <th>county</th>\n",
       "      <th>...</th>\n",
       "      <th>item_number</th>\n",
       "      <th>item_description</th>\n",
       "      <th>pack</th>\n",
       "      <th>bottle_volume</th>\n",
       "      <th>state_bottle_cost</th>\n",
       "      <th>state_bottle_retail</th>\n",
       "      <th>bottles_sold</th>\n",
       "      <th>sale_dollars</th>\n",
       "      <th>volume_sold_liters</th>\n",
       "      <th>volume_sold_gallons</th>\n",
       "    </tr>\n",
       "  </thead>\n",
       "  <tbody>\n",
       "    <tr>\n",
       "      <th>0</th>\n",
       "      <td>S29198800001</td>\n",
       "      <td>2015-11-20</td>\n",
       "      <td>2191</td>\n",
       "      <td>Keokuk Spirits</td>\n",
       "      <td>1013 MAIN</td>\n",
       "      <td>KEOKUK</td>\n",
       "      <td>52632</td>\n",
       "      <td>1013 MAIN\\nKEOKUK 52632\\n(40.39978, -91.387531)</td>\n",
       "      <td>56</td>\n",
       "      <td>Lee</td>\n",
       "      <td>...</td>\n",
       "      <td>297</td>\n",
       "      <td>Templeton Rye w/Flask</td>\n",
       "      <td>6</td>\n",
       "      <td>750</td>\n",
       "      <td>$18.09</td>\n",
       "      <td>$27.14</td>\n",
       "      <td>6</td>\n",
       "      <td>$162.84</td>\n",
       "      <td>4.5</td>\n",
       "      <td>1.19</td>\n",
       "    </tr>\n",
       "  </tbody>\n",
       "</table>\n",
       "<p>1 rows × 24 columns</p>\n",
       "</div>"
      ],
      "text/plain": [
       "  invoice_number        date  store_number      store_name    address    city  \\\n",
       "0   S29198800001  2015-11-20          2191  Keokuk Spirits  1013 MAIN  KEOKUK   \n",
       "\n",
       "  zip_code                                   store_location  county_number  \\\n",
       "0    52632  1013 MAIN\\nKEOKUK 52632\\n(40.39978, -91.387531)             56   \n",
       "\n",
       "  county  ... item_number       item_description  pack bottle_volume  \\\n",
       "0    Lee  ...         297  Templeton Rye w/Flask     6           750   \n",
       "\n",
       "   state_bottle_cost state_bottle_retail  bottles_sold  sale_dollars  \\\n",
       "0             $18.09              $27.14             6       $162.84   \n",
       "\n",
       "  volume_sold_liters volume_sold_gallons  \n",
       "0                4.5                1.19  \n",
       "\n",
       "[1 rows x 24 columns]"
      ]
     },
     "execution_count": 4,
     "metadata": {},
     "output_type": "execute_result"
    }
   ],
   "source": [
    "top_df.head(1)"
   ]
  },
  {
   "cell_type": "code",
   "execution_count": 10,
   "id": "7720516f-4c42-4488-ab40-3e2d99c3ec85",
   "metadata": {},
   "outputs": [
    {
     "data": {
      "text/plain": [
       "Index(['invoice_number', 'date', 'store_number', 'store_name', 'address',\n",
       "       'city', 'zip_code', 'store_location', 'county_number', 'county',\n",
       "       'category', 'category_name', 'vendor_number', 'vendor_name',\n",
       "       'item_number', 'item_description', 'pack', 'bottle_volume',\n",
       "       'state_bottle_cost', 'state_bottle_retail', 'bottles_sold',\n",
       "       'sale_dollars', 'volume_sold_liters', 'volume_sold_gallons'],\n",
       "      dtype='object')"
      ]
     },
     "execution_count": 10,
     "metadata": {},
     "output_type": "execute_result"
    }
   ],
   "source": [
    "top_df.columns"
   ]
  },
  {
   "cell_type": "code",
   "execution_count": null,
   "id": "10fbf1a6-5357-4cc3-b5be-1634bb2fea25",
   "metadata": {},
   "outputs": [],
   "source": [
    "distinct_cities = pd.read_sql('select city, count(invoice_number) from main_table group by city;', conn)"
   ]
  },
  {
   "cell_type": "code",
   "execution_count": null,
   "id": "096cb374-0644-4000-a897-4486fa76755c",
   "metadata": {},
   "outputs": [],
   "source": [
    "distinct_cities.sort_values('count', ascending=False).head(25)"
   ]
  },
  {
   "cell_type": "code",
   "execution_count": null,
   "id": "4714917a-5ab8-4412-b00b-b1eb76d9f250",
   "metadata": {},
   "outputs": [],
   "source": [
    "stores_in_dm = pd.read_sql(\"select store_number, store_name, count(item_number) from main_table where city like 'DES MOINES' group by store_number, store_name;\", conn)"
   ]
  },
  {
   "cell_type": "code",
   "execution_count": null,
   "id": "481a4c75-c9d3-4cc1-8bc6-d17a99d8f13d",
   "metadata": {},
   "outputs": [],
   "source": [
    "stores_in_dm.sort_values('count', ascending=False).head(10)"
   ]
  },
  {
   "cell_type": "code",
   "execution_count": 5,
   "id": "384335ea-353f-49e7-888f-6fb38c201ae9",
   "metadata": {},
   "outputs": [],
   "source": [
    "dates = pd.read_sql(\"select date from main_table group by date order by date desc;\", conn)"
   ]
  },
  {
   "cell_type": "code",
   "execution_count": 9,
   "id": "cb9911bf-5197-4d40-91c9-baa299934672",
   "metadata": {},
   "outputs": [
    {
     "name": "stdout",
     "output_type": "stream",
     "text": [
      "2017-10-31 2012-01-03\n"
     ]
    }
   ],
   "source": [
    "print(dates.date[0], dates.date[len(dates.date)-1])"
   ]
  },
  {
   "cell_type": "code",
   "execution_count": 23,
   "id": "7304f7f8-f45e-4757-817d-15d020b40b5f",
   "metadata": {},
   "outputs": [
    {
     "name": "stdout",
     "output_type": "stream",
     "text": [
      "<class 'datetime.date'>\n"
     ]
    }
   ],
   "source": [
    "variable = dates.date[0]\n",
    "variable\n",
    "print(f\"{type(variable)}\")"
   ]
  },
  {
   "cell_type": "code",
   "execution_count": 30,
   "id": "bc4ab1ca-0682-4438-a8a7-ccaf4a6aa7d4",
   "metadata": {},
   "outputs": [
    {
     "data": {
      "text/html": [
       "<div>\n",
       "<style scoped>\n",
       "    .dataframe tbody tr th:only-of-type {\n",
       "        vertical-align: middle;\n",
       "    }\n",
       "\n",
       "    .dataframe tbody tr th {\n",
       "        vertical-align: top;\n",
       "    }\n",
       "\n",
       "    .dataframe thead th {\n",
       "        text-align: right;\n",
       "    }\n",
       "</style>\n",
       "<table border=\"1\" class=\"dataframe\">\n",
       "  <thead>\n",
       "    <tr style=\"text-align: right;\">\n",
       "      <th></th>\n",
       "      <th>date</th>\n",
       "      <th>sum</th>\n",
       "    </tr>\n",
       "  </thead>\n",
       "  <tbody>\n",
       "    <tr>\n",
       "      <th>0</th>\n",
       "      <td>2017-10-31</td>\n",
       "      <td>$757,500.03</td>\n",
       "    </tr>\n",
       "    <tr>\n",
       "      <th>1</th>\n",
       "      <td>2017-10-30</td>\n",
       "      <td>$772,762.07</td>\n",
       "    </tr>\n",
       "    <tr>\n",
       "      <th>2</th>\n",
       "      <td>2017-10-27</td>\n",
       "      <td>$382,548.46</td>\n",
       "    </tr>\n",
       "    <tr>\n",
       "      <th>3</th>\n",
       "      <td>2017-10-26</td>\n",
       "      <td>$619,829.19</td>\n",
       "    </tr>\n",
       "    <tr>\n",
       "      <th>4</th>\n",
       "      <td>2017-10-25</td>\n",
       "      <td>$817,885.95</td>\n",
       "    </tr>\n",
       "    <tr>\n",
       "      <th>...</th>\n",
       "      <td>...</td>\n",
       "      <td>...</td>\n",
       "    </tr>\n",
       "    <tr>\n",
       "      <th>1374</th>\n",
       "      <td>2012-01-10</td>\n",
       "      <td>$900,077.61</td>\n",
       "    </tr>\n",
       "    <tr>\n",
       "      <th>1375</th>\n",
       "      <td>2012-01-09</td>\n",
       "      <td>$933,835.50</td>\n",
       "    </tr>\n",
       "    <tr>\n",
       "      <th>1376</th>\n",
       "      <td>2012-01-05</td>\n",
       "      <td>$940,194.93</td>\n",
       "    </tr>\n",
       "    <tr>\n",
       "      <th>1377</th>\n",
       "      <td>2012-01-04</td>\n",
       "      <td>$860,053.73</td>\n",
       "    </tr>\n",
       "    <tr>\n",
       "      <th>1378</th>\n",
       "      <td>2012-01-03</td>\n",
       "      <td>$1,012,493.81</td>\n",
       "    </tr>\n",
       "  </tbody>\n",
       "</table>\n",
       "<p>1379 rows × 2 columns</p>\n",
       "</div>"
      ],
      "text/plain": [
       "            date            sum\n",
       "0     2017-10-31    $757,500.03\n",
       "1     2017-10-30    $772,762.07\n",
       "2     2017-10-27    $382,548.46\n",
       "3     2017-10-26    $619,829.19\n",
       "4     2017-10-25    $817,885.95\n",
       "...          ...            ...\n",
       "1374  2012-01-10    $900,077.61\n",
       "1375  2012-01-09    $933,835.50\n",
       "1376  2012-01-05    $940,194.93\n",
       "1377  2012-01-04    $860,053.73\n",
       "1378  2012-01-03  $1,012,493.81\n",
       "\n",
       "[1379 rows x 2 columns]"
      ]
     },
     "execution_count": 30,
     "metadata": {},
     "output_type": "execute_result"
    }
   ],
   "source": [
    "last_day = dates.date[0]\n",
    "sales = pd.read_sql(\"select date, sum(cast(sale_dollars as money)) from main_table group by date order by date desc;\", conn)\n",
    "sales"
   ]
  },
  {
   "cell_type": "code",
   "execution_count": 70,
   "id": "d3cdae29-5498-409b-ab45-2e9a6a3b3680",
   "metadata": {},
   "outputs": [
    {
     "data": {
      "text/plain": [
       "date       1379\n",
       "dollars    1379\n",
       "dtype: int64"
      ]
     },
     "execution_count": 70,
     "metadata": {},
     "output_type": "execute_result"
    }
   ],
   "source": []
  },
  {
   "cell_type": "code",
   "execution_count": 38,
   "id": "0d64bef7-e2aa-432f-8ae8-c7f295884946",
   "metadata": {},
   "outputs": [],
   "source": [
    "sales.date = pd.to_datetime(sales.date).dt.strftime('%m/%d')"
   ]
  },
  {
   "cell_type": "code",
   "execution_count": 60,
   "id": "db418644-9c87-4838-bf0d-65b08ca421dd",
   "metadata": {},
   "outputs": [],
   "source": [
    "sales = sales.rename(columns={'sum': 'dollars'})"
   ]
  },
  {
   "cell_type": "code",
   "execution_count": 72,
   "id": "22233402-2f94-4908-a6d6-4971be762397",
   "metadata": {},
   "outputs": [],
   "source": [
    "# https://stackoverflow.com/questions/32464280/converting-currency-with-to-numbers-in-python-pandas\n",
    "sales.dollars = sales.dollars.replace('[\\$,]', '', regex=True).astype(float)"
   ]
  },
  {
   "cell_type": "code",
   "execution_count": 73,
   "id": "dad2b15c-9233-4372-8650-4f68916c3cda",
   "metadata": {},
   "outputs": [
    {
     "data": {
      "text/plain": [
       "date        object\n",
       "dollars    float64\n",
       "dtype: object"
      ]
     },
     "execution_count": 73,
     "metadata": {},
     "output_type": "execute_result"
    }
   ],
   "source": [
    "sales.dtypes"
   ]
  },
  {
   "cell_type": "code",
   "execution_count": 74,
   "id": "f8cbf136-5403-46f7-86e0-d2bf58d3ecbd",
   "metadata": {},
   "outputs": [
    {
     "data": {
      "text/html": [
       "<div>\n",
       "<style scoped>\n",
       "    .dataframe tbody tr th:only-of-type {\n",
       "        vertical-align: middle;\n",
       "    }\n",
       "\n",
       "    .dataframe tbody tr th {\n",
       "        vertical-align: top;\n",
       "    }\n",
       "\n",
       "    .dataframe thead th {\n",
       "        text-align: right;\n",
       "    }\n",
       "</style>\n",
       "<table border=\"1\" class=\"dataframe\">\n",
       "  <thead>\n",
       "    <tr style=\"text-align: right;\">\n",
       "      <th></th>\n",
       "      <th>date</th>\n",
       "      <th>dollars</th>\n",
       "    </tr>\n",
       "  </thead>\n",
       "  <tbody>\n",
       "    <tr>\n",
       "      <th>0</th>\n",
       "      <td>10/31</td>\n",
       "      <td>757500.03</td>\n",
       "    </tr>\n",
       "    <tr>\n",
       "      <th>1</th>\n",
       "      <td>10/30</td>\n",
       "      <td>772762.07</td>\n",
       "    </tr>\n",
       "    <tr>\n",
       "      <th>2</th>\n",
       "      <td>10/27</td>\n",
       "      <td>382548.46</td>\n",
       "    </tr>\n",
       "    <tr>\n",
       "      <th>3</th>\n",
       "      <td>10/26</td>\n",
       "      <td>619829.19</td>\n",
       "    </tr>\n",
       "    <tr>\n",
       "      <th>4</th>\n",
       "      <td>10/25</td>\n",
       "      <td>817885.95</td>\n",
       "    </tr>\n",
       "    <tr>\n",
       "      <th>...</th>\n",
       "      <td>...</td>\n",
       "      <td>...</td>\n",
       "    </tr>\n",
       "    <tr>\n",
       "      <th>1374</th>\n",
       "      <td>01/10</td>\n",
       "      <td>900077.61</td>\n",
       "    </tr>\n",
       "    <tr>\n",
       "      <th>1375</th>\n",
       "      <td>01/09</td>\n",
       "      <td>933835.50</td>\n",
       "    </tr>\n",
       "    <tr>\n",
       "      <th>1376</th>\n",
       "      <td>01/05</td>\n",
       "      <td>940194.93</td>\n",
       "    </tr>\n",
       "    <tr>\n",
       "      <th>1377</th>\n",
       "      <td>01/04</td>\n",
       "      <td>860053.73</td>\n",
       "    </tr>\n",
       "    <tr>\n",
       "      <th>1378</th>\n",
       "      <td>01/03</td>\n",
       "      <td>1012493.81</td>\n",
       "    </tr>\n",
       "  </tbody>\n",
       "</table>\n",
       "<p>1379 rows × 2 columns</p>\n",
       "</div>"
      ],
      "text/plain": [
       "       date     dollars\n",
       "0     10/31   757500.03\n",
       "1     10/30   772762.07\n",
       "2     10/27   382548.46\n",
       "3     10/26   619829.19\n",
       "4     10/25   817885.95\n",
       "...     ...         ...\n",
       "1374  01/10   900077.61\n",
       "1375  01/09   933835.50\n",
       "1376  01/05   940194.93\n",
       "1377  01/04   860053.73\n",
       "1378  01/03  1012493.81\n",
       "\n",
       "[1379 rows x 2 columns]"
      ]
     },
     "execution_count": 74,
     "metadata": {},
     "output_type": "execute_result"
    }
   ],
   "source": [
    "sales"
   ]
  },
  {
   "cell_type": "code",
   "execution_count": 75,
   "id": "b5715887-a878-4feb-9a41-ac86afd07fc8",
   "metadata": {},
   "outputs": [],
   "source": [
    "yearly = sales.groupby(sales.date)"
   ]
  },
  {
   "cell_type": "code",
   "execution_count": 118,
   "id": "6d7fc6b1-df83-4a74-97dd-7a86da1d28cf",
   "metadata": {},
   "outputs": [],
   "source": [
    "yearly_avg = yearly.mean()"
   ]
  },
  {
   "cell_type": "code",
   "execution_count": 119,
   "id": "d0fc3385-9b39-4a0f-a7a3-65c98f5fead9",
   "metadata": {},
   "outputs": [],
   "source": [
    "yearly_avg = yearly_avg.reset_index(level=0)"
   ]
  },
  {
   "cell_type": "markdown",
   "id": "78a5442c-5206-428e-9401-f5157f91257e",
   "metadata": {},
   "source": [
    "I believe that sales will be up in the summer and down in the winter. I will measure from the equinox and solctice."
   ]
  },
  {
   "cell_type": "code",
   "execution_count": 86,
   "id": "c55d5d73-82e1-4823-94e5-f8cdeb94cae3",
   "metadata": {},
   "outputs": [
    {
     "data": {
      "image/png": "[encoded data removed]",
      "text/plain": [
       "<Figure size 432x288 with 1 Axes>"
      ]
     },
     "metadata": {
      "needs_background": "light"
     },
     "output_type": "display_data"
    }
   ],
   "source": [
    "# plotting over course of calendar year\n",
    "plt.scatter(yearly_avg.date, yearly_avg.dollars)\n",
    "plt.show()"
   ]
  },
  {
   "cell_type": "code",
   "execution_count": 100,
   "id": "7dcce62f-87ae-42d4-addb-017c9573cdb9",
   "metadata": {},
   "outputs": [
    {
     "data": {
      "image/png": "[encoded data removed]",
      "text/plain": [
       "<Figure size 1080x576 with 1 Axes>"
      ]
     },
     "metadata": {
      "needs_background": "light"
     },
     "output_type": "display_data"
    }
   ],
   "source": [
    "# https://stackoverflow.com/questions/19165259/python-numpy-scipy-curve-fitting\n",
    "\n",
    "x = np.arange(len(yearly_avg.date.to_numpy()))\n",
    "y = yearly_avg.dollars.to_numpy()\n",
    "\n",
    "# calculate polynomial\n",
    "z = np.polyfit(x, y, 3)\n",
    "f = np.poly1d(z)\n",
    "\n",
    "# calculate new x's and y's\n",
    "x_new = np.linspace(x[0], x[-1], len(x))\n",
    "y_new = f(x_new)\n",
    "\n",
    "plt.figure(figsize = (15, 8))\n",
    "plt.plot(x,y,'o', x_new, y_new)\n",
    "plt.xlim([x[0]-1, x[-1] + 1 ])\n",
    "\n",
    "plt.title(\"Culumative Years of Liquor Sales in Iowa 2012-2017\")\n",
    "plt.xlabel(\"Day Number\")\n",
    "plt.ylabel(\"Sales in Millions\")\n",
    "\n",
    "plt.savefig(\"CYoLSiI.png\", facecolor='white', transparent=False)\n",
    "\n",
    "plt.show()"
   ]
  },
  {
   "cell_type": "code",
   "execution_count": 135,
   "id": "7b330108-6959-4bfc-8131-75c6af1a94bf",
   "metadata": {},
   "outputs": [],
   "source": [
    "seasons = yearly_avg.copy()"
   ]
  },
  {
   "cell_type": "code",
   "execution_count": 136,
   "id": "33d46ed1-85b4-47fa-a435-cd17acb4256a",
   "metadata": {},
   "outputs": [],
   "source": [
    "# ignore year its just a place holder\n",
    "seasons.date = pd.to_datetime(seasons.date, format='%m/%d', errors='coerce')"
   ]
  },
  {
   "cell_type": "code",
   "execution_count": 137,
   "id": "caa2fd11-3f14-4ab4-8fce-555e136ab67c",
   "metadata": {},
   "outputs": [],
   "source": [
    "def quarters(dt):\n",
    "    if dt > datetime.datetime(1900, 3, 21) and dt < datetime.datetime(1900, 6, 21):\n",
    "        return 'spring'\n",
    "    elif dt > datetime.datetime(1900, 6, 21) and dt < datetime.datetime(1900, 9, 21):\n",
    "        return 'summer'\n",
    "    elif dt > datetime.datetime(1900, 9, 21) and dt < datetime.datetime(1900, 12, 21):\n",
    "        return 'autumn'\n",
    "    else:\n",
    "        return 'winter'\n",
    "    \n",
    "\n",
    "seasons['season'] = seasons.date.map(lambda x: quarters(x))"
   ]
  },
  {
   "cell_type": "code",
   "execution_count": 141,
   "id": "9210c665-248a-4883-abb0-581c1162ae82",
   "metadata": {},
   "outputs": [
    {
     "data": {
      "text/html": [
       "<div>\n",
       "<style scoped>\n",
       "    .dataframe tbody tr th:only-of-type {\n",
       "        vertical-align: middle;\n",
       "    }\n",
       "\n",
       "    .dataframe tbody tr th {\n",
       "        vertical-align: top;\n",
       "    }\n",
       "\n",
       "    .dataframe thead th {\n",
       "        text-align: right;\n",
       "    }\n",
       "</style>\n",
       "<table border=\"1\" class=\"dataframe\">\n",
       "  <thead>\n",
       "    <tr style=\"text-align: right;\">\n",
       "      <th></th>\n",
       "      <th>dollars</th>\n",
       "      <th>season</th>\n",
       "    </tr>\n",
       "  </thead>\n",
       "  <tbody>\n",
       "    <tr>\n",
       "      <th>0</th>\n",
       "      <td>8.540227e+05</td>\n",
       "      <td>winter</td>\n",
       "    </tr>\n",
       "    <tr>\n",
       "      <th>1</th>\n",
       "      <td>9.507089e+05</td>\n",
       "      <td>winter</td>\n",
       "    </tr>\n",
       "    <tr>\n",
       "      <th>2</th>\n",
       "      <td>1.082011e+06</td>\n",
       "      <td>winter</td>\n",
       "    </tr>\n",
       "    <tr>\n",
       "      <th>3</th>\n",
       "      <td>1.105334e+06</td>\n",
       "      <td>winter</td>\n",
       "    </tr>\n",
       "    <tr>\n",
       "      <th>4</th>\n",
       "      <td>1.115890e+06</td>\n",
       "      <td>winter</td>\n",
       "    </tr>\n",
       "    <tr>\n",
       "      <th>...</th>\n",
       "      <td>...</td>\n",
       "      <td>...</td>\n",
       "    </tr>\n",
       "    <tr>\n",
       "      <th>359</th>\n",
       "      <td>1.439825e+06</td>\n",
       "      <td>winter</td>\n",
       "    </tr>\n",
       "    <tr>\n",
       "      <th>360</th>\n",
       "      <td>1.236322e+06</td>\n",
       "      <td>winter</td>\n",
       "    </tr>\n",
       "    <tr>\n",
       "      <th>361</th>\n",
       "      <td>1.476587e+06</td>\n",
       "      <td>winter</td>\n",
       "    </tr>\n",
       "    <tr>\n",
       "      <th>362</th>\n",
       "      <td>1.080521e+06</td>\n",
       "      <td>winter</td>\n",
       "    </tr>\n",
       "    <tr>\n",
       "      <th>363</th>\n",
       "      <td>3.492595e+05</td>\n",
       "      <td>winter</td>\n",
       "    </tr>\n",
       "  </tbody>\n",
       "</table>\n",
       "<p>364 rows × 2 columns</p>\n",
       "</div>"
      ],
      "text/plain": [
       "          dollars  season\n",
       "0    8.540227e+05  winter\n",
       "1    9.507089e+05  winter\n",
       "2    1.082011e+06  winter\n",
       "3    1.105334e+06  winter\n",
       "4    1.115890e+06  winter\n",
       "..            ...     ...\n",
       "359  1.439825e+06  winter\n",
       "360  1.236322e+06  winter\n",
       "361  1.476587e+06  winter\n",
       "362  1.080521e+06  winter\n",
       "363  3.492595e+05  winter\n",
       "\n",
       "[364 rows x 2 columns]"
      ]
     },
     "execution_count": 141,
     "metadata": {},
     "output_type": "execute_result"
    }
   ],
   "source": [
    "seasons = seasons.drop(columns=['date'])\n",
    "seasons"
   ]
  },
  {
   "cell_type": "code",
   "execution_count": 142,
   "id": "894f3cce-bbce-4372-b72e-9d411a53d6b8",
   "metadata": {},
   "outputs": [
    {
     "data": {
      "text/html": [
       "<div>\n",
       "<style scoped>\n",
       "    .dataframe tbody tr th:only-of-type {\n",
       "        vertical-align: middle;\n",
       "    }\n",
       "\n",
       "    .dataframe tbody tr th {\n",
       "        vertical-align: top;\n",
       "    }\n",
       "\n",
       "    .dataframe thead th {\n",
       "        text-align: right;\n",
       "    }\n",
       "</style>\n",
       "<table border=\"1\" class=\"dataframe\">\n",
       "  <thead>\n",
       "    <tr style=\"text-align: right;\">\n",
       "      <th></th>\n",
       "      <th>dollars</th>\n",
       "    </tr>\n",
       "    <tr>\n",
       "      <th>season</th>\n",
       "      <th></th>\n",
       "    </tr>\n",
       "  </thead>\n",
       "  <tbody>\n",
       "    <tr>\n",
       "      <th>autumn</th>\n",
       "      <td>1.118172e+06</td>\n",
       "    </tr>\n",
       "    <tr>\n",
       "      <th>spring</th>\n",
       "      <td>1.086341e+06</td>\n",
       "    </tr>\n",
       "    <tr>\n",
       "      <th>summer</th>\n",
       "      <td>1.049346e+06</td>\n",
       "    </tr>\n",
       "    <tr>\n",
       "      <th>winter</th>\n",
       "      <td>1.015103e+06</td>\n",
       "    </tr>\n",
       "  </tbody>\n",
       "</table>\n",
       "</div>"
      ],
      "text/plain": [
       "             dollars\n",
       "season              \n",
       "autumn  1.118172e+06\n",
       "spring  1.086341e+06\n",
       "summer  1.049346e+06\n",
       "winter  1.015103e+06"
      ]
     },
     "execution_count": 142,
     "metadata": {},
     "output_type": "execute_result"
    }
   ],
   "source": [
    "seasons.groupby('season').mean()"
   ]
  },
  {
   "cell_type": "code",
   "execution_count": 144,
   "id": "4db66ca6-d592-487f-9284-440ff088bcda",
   "metadata": {},
   "outputs": [
    {
     "data": {
      "text/plain": [
       "<AxesSubplot:title={'center':'dollars'}, xlabel='[season]'>"
      ]
     },
     "execution_count": 144,
     "metadata": {},
     "output_type": "execute_result"
    },
    {
     "data": {
      "image/png": "[encoded data removed]",
      "text/plain": [
       "<Figure size 432x288 with 1 Axes>"
      ]
     },
     "metadata": {
      "needs_background": "light"
     },
     "output_type": "display_data"
    }
   ],
   "source": [
    "seasons.boxplot(by='season')"
   ]
  },
  {
   "cell_type": "code",
   "execution_count": 148,
   "id": "8dfb2f78-2bd0-46a1-9bc6-ad99362eef20",
   "metadata": {},
   "outputs": [
    {
     "data": {
      "text/plain": [
       "Ttest_indResult(statistic=1.2912102743763063, pvalue=0.19827738334612466)"
      ]
     },
     "execution_count": 148,
     "metadata": {},
     "output_type": "execute_result"
    }
   ],
   "source": [
    "'''My hypothoses is that summer has more sales than winter\n",
    "the null hypothesis is that summer does not have greater sales than winter with an alpha of 5%'''\n",
    "summer = seasons[seasons.season == 'summer']\n",
    "winter = seasons[seasons.season == 'winter']\n",
    "\n",
    "ttest_ind(summer.dollars, winter.dollars)"
   ]
  },
  {
   "cell_type": "markdown",
   "id": "1f319572-08c7-415d-adc9-8cd67d40c681",
   "metadata": {},
   "source": [
    "with a t score of 1.29 and a pvalue of 0.198, i cannot reject the null hypothesis. I cannot say for sure if Summer has higher sales than Winter."
   ]
  },
  {
   "cell_type": "code",
   "execution_count": 149,
   "id": "58ba4381-8fec-4f5e-b106-ca56c803aee4",
   "metadata": {},
   "outputs": [
    {
     "data": {
      "text/plain": [
       "F_onewayResult(statistic=5.001971534339163, pvalue=0.002070386617408077)"
      ]
     },
     "execution_count": 149,
     "metadata": {},
     "output_type": "execute_result"
    }
   ],
   "source": [
    "'''I am going to test to see if there is any difference between any of the means\n",
    "the null hypothesis is that there is non alpha 5%'''\n",
    "summer = seasons[seasons.season == 'summer'].dollars\n",
    "winter = seasons[seasons.season == 'winter'].dollars\n",
    "autumn = seasons[seasons.season == 'autumn'].dollars\n",
    "spring = seasons[seasons.season == 'spring'].dollars\n",
    "\n",
    "from scipy.stats import f_oneway\n",
    "\n",
    "f_oneway(autumn, spring, summer, winter)"
   ]
  },
  {
   "cell_type": "markdown",
   "id": "b54792f6-1150-4d7f-b501-aee4b3c406b2",
   "metadata": {},
   "source": [
    "the pvalue is .2% < 5% so i can reject the null. There is a difference in Mean. Meaning There is some seasons that are more Profitable."
   ]
  },
  {
   "cell_type": "code",
   "execution_count": 155,
   "id": "d5be0300-cbca-41e9-b119-f8b588b4e5c6",
   "metadata": {},
   "outputs": [],
   "source": [
    "'''I am going to write a for loop of tests\n",
    "the nulls are the following\n",
    "autumn is not greater than summer/spring/winter\n",
    "spring is not greater than summer/winter\n",
    "summer is not greater than winter (we know how that goes)\n",
    "alpha 5%'''\n",
    "\n",
    "adict = {'a':autumn, 'm':spring, 's':summer, 'w':winter}\n",
    "\n",
    "sometuples = {}\n",
    "for x in adict:\n",
    "    for y in adict:\n",
    "        if x != y:\n",
    "            sometuples[x+y] = (adict[x], adict[y])\n",
    "            \n"
   ]
  },
  {
   "cell_type": "code",
   "execution_count": 159,
   "id": "fc2e5f5e-b84d-4e48-adc4-a033577871cd",
   "metadata": {},
   "outputs": [],
   "source": [
    "answers = {}\n",
    "for k in sometuples:\n",
    "    season1 = sometuples[k][0]\n",
    "    season2 = sometuples[k][1]\n",
    "    \n",
    "    t, p = ttest_ind(season1, season2)\n",
    "    answers[k] = (t, p)"
   ]
  },
  {
   "cell_type": "code",
   "execution_count": 160,
   "id": "864d1632-e04f-400f-b68b-ca8c67b61e45",
   "metadata": {},
   "outputs": [
    {
     "data": {
      "text/plain": [
       "{'am': (1.0623312146245119, 0.2895164793781658),\n",
       " 'as': (2.233100246456167, 0.02678138074355021),\n",
       " 'aw': (3.1854244026864222, 0.0017038798412991616),\n",
       " 'ma': (-1.0623312146245119, 0.2895164793781658),\n",
       " 'ms': (1.5744277196116727, 0.11714458874054884),\n",
       " 'mw': (2.7892366890489946, 0.005848674431854004),\n",
       " 'sa': (-2.233100246456167, 0.02678138074355021),\n",
       " 'sm': (-1.5744277196116727, 0.11714458874054884),\n",
       " 'sw': (1.2912102743763063, 0.19827738334612466),\n",
       " 'wa': (-3.1854244026864222, 0.0017038798412991616),\n",
       " 'wm': (-2.7892366890489946, 0.005848674431854004),\n",
       " 'ws': (-1.2912102743763063, 0.19827738334612466)}"
      ]
     },
     "execution_count": 160,
     "metadata": {},
     "output_type": "execute_result"
    }
   ],
   "source": [
    "answers"
   ]
  },
  {
   "cell_type": "markdown",
   "id": "12be0ff0-9622-4d63-abf4-f9e6855dd55e",
   "metadata": {},
   "source": [
    "to save time i am going to make a dataframe that will chart which seasons are greater than others"
   ]
  },
  {
   "cell_type": "code",
   "execution_count": 168,
   "id": "85eb8b80-1d81-4263-8201-d1e4a26c111a",
   "metadata": {},
   "outputs": [],
   "source": [
    "compare = pd.DataFrame({'Autumn':['','=','+','+'], 'Spring':['=','','=','+'], 'Summer':['-','=','','='], 'Winter':['-','-','=','']})"
   ]
  },
  {
   "cell_type": "code",
   "execution_count": 169,
   "id": "ed2eb1b8-9bf4-4f1d-a8ba-19790a0d167e",
   "metadata": {},
   "outputs": [],
   "source": [
    "compare.index = ['Autumn', 'Spring', 'Summer', 'Winter']"
   ]
  },
  {
   "cell_type": "code",
   "execution_count": 170,
   "id": "c61759f6-6e92-47e8-897d-e084674ef5a4",
   "metadata": {},
   "outputs": [
    {
     "data": {
      "text/html": [
       "<div>\n",
       "<style scoped>\n",
       "    .dataframe tbody tr th:only-of-type {\n",
       "        vertical-align: middle;\n",
       "    }\n",
       "\n",
       "    .dataframe tbody tr th {\n",
       "        vertical-align: top;\n",
       "    }\n",
       "\n",
       "    .dataframe thead th {\n",
       "        text-align: right;\n",
       "    }\n",
       "</style>\n",
       "<table border=\"1\" class=\"dataframe\">\n",
       "  <thead>\n",
       "    <tr style=\"text-align: right;\">\n",
       "      <th></th>\n",
       "      <th>Autumn</th>\n",
       "      <th>Spring</th>\n",
       "      <th>Summer</th>\n",
       "      <th>Winter</th>\n",
       "    </tr>\n",
       "  </thead>\n",
       "  <tbody>\n",
       "    <tr>\n",
       "      <th>Autumn</th>\n",
       "      <td></td>\n",
       "      <td>=</td>\n",
       "      <td>-</td>\n",
       "      <td>-</td>\n",
       "    </tr>\n",
       "    <tr>\n",
       "      <th>Spring</th>\n",
       "      <td>=</td>\n",
       "      <td></td>\n",
       "      <td>=</td>\n",
       "      <td>-</td>\n",
       "    </tr>\n",
       "    <tr>\n",
       "      <th>Summer</th>\n",
       "      <td>+</td>\n",
       "      <td>=</td>\n",
       "      <td></td>\n",
       "      <td>=</td>\n",
       "    </tr>\n",
       "    <tr>\n",
       "      <th>Winter</th>\n",
       "      <td>+</td>\n",
       "      <td>+</td>\n",
       "      <td>=</td>\n",
       "      <td></td>\n",
       "    </tr>\n",
       "  </tbody>\n",
       "</table>\n",
       "</div>"
      ],
      "text/plain": [
       "       Autumn Spring Summer Winter\n",
       "Autumn             =      -      -\n",
       "Spring      =             =      -\n",
       "Summer      +      =             =\n",
       "Winter      +      +      =       "
      ]
     },
     "execution_count": 170,
     "metadata": {},
     "output_type": "execute_result"
    }
   ],
   "source": [
    "compare"
   ]
  },
  {
   "cell_type": "code",
   "execution_count": null,
   "id": "ff1582ea-68cf-4065-a98f-ca7d921bc551",
   "metadata": {},
   "outputs": [],
   "source": []
  }
 ],
 "metadata": {
  "kernelspec": {
   "display_name": "Python 3 (ipykernel)",
   "language": "python",
   "name": "python3"
  },
  "language_info": {
   "codemirror_mode": {
    "name": "ipython",
    "version": 3
   },
   "file_extension": ".py",
   "mimetype": "text/x-python",
   "name": "python",
   "nbconvert_exporter": "python",
   "pygments_lexer": "ipython3",
   "version": "3.9.11"
  }
 },
 "nbformat": 4,
 "nbformat_minor": 5
}
